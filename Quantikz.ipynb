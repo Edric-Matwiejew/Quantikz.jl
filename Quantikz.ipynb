{
 "cells": [
  {
   "cell_type": "code",
   "execution_count": 1,
   "metadata": {},
   "outputs": [
    {
     "name": "stderr",
     "output_type": "stream",
     "text": [
      "┌ Info: Precompiling Quantikz [b0d11df0-eea3-4d79-b4a5-421488cbf74b]\n",
      "└ @ Base loading.jl:1278\n"
     ]
    }
   ],
   "source": [
    "using Quantikz"
   ]
  },
  {
   "cell_type": "code",
   "execution_count": 2,
   "metadata": {},
   "outputs": [
    {
     "data": {
      "image/png": "[encoded data removed]"
     },
     "metadata": {},
     "output_type": "display_data"
    },
    {
     "name": "stderr",
     "output_type": "stream",
     "text": [
      "convert-im6.q16: profile 'icc': 'RGB ': RGB color space not permitted on grayscale PNG `input.png' @ warning/png.c/MagickPNGWarningHandler/1654.\n"
     ]
    }
   ],
   "source": [
    "displaycircuit(\n",
    "    [CNOT(2,1),\n",
    "     CPHASE(2,3),\n",
    "     H(4),P(5),\n",
    "     SWAP(5,6),\n",
    "     U(\"Gate\",6),\n",
    "     Measurement(1),\n",
    "     Measurement(\"X\",2)\n",
    "    ],\n",
    "    mode=:expanded\n",
    ")"
   ]
  },
  {
   "cell_type": "code",
   "execution_count": 3,
   "metadata": {},
   "outputs": [
    {
     "data": {
      "image/png": "[encoded data removed]"
     },
     "metadata": {},
     "output_type": "display_data"
    },
    {
     "name": "stderr",
     "output_type": "stream",
     "text": [
      "convert-im6.q16: profile 'icc': 'RGB ': RGB color space not permitted on grayscale PNG `input.png' @ warning/png.c/MagickPNGWarningHandler/1654.\n"
     ]
    }
   ],
   "source": [
    "displaycircuit(\n",
    "    [CNOT(2,1),\n",
    "     CPHASE(2,3),\n",
    "     H(4),P(5),\n",
    "     SWAP(5,6),\n",
    "     U(\"Gate\",6),\n",
    "     Measurement(1),\n",
    "     Measurement(\"X\",2)\n",
    "    ],\n",
    "    mode=:compressed\n",
    ")"
   ]
  },
  {
   "cell_type": "markdown",
   "metadata": {},
   "source": [
    "## `MultiControl` lets you make unrealistic arbitrary multiqubit ops"
   ]
  },
  {
   "cell_type": "code",
   "execution_count": 4,
   "metadata": {},
   "outputs": [
    {
     "data": {
      "image/png": "[encoded data removed]"
     },
     "metadata": {},
     "output_type": "display_data"
    },
    {
     "name": "stderr",
     "output_type": "stream",
     "text": [
      "convert-im6.q16: profile 'icc': 'RGB ': RGB color space not permitted on grayscale PNG `input.png' @ warning/png.c/MagickPNGWarningHandler/1654.\n"
     ]
    }
   ],
   "source": [
    "displaycircuit(\n",
    "    [MultiControl([1,8],[2,7],[3,6],[4,5])]\n",
    ")"
   ]
  },
  {
   "cell_type": "markdown",
   "metadata": {},
   "source": [
    "## `MultiControlU` lets you make controlled gates with arbitrary names"
   ]
  },
  {
   "cell_type": "code",
   "execution_count": 5,
   "metadata": {},
   "outputs": [
    {
     "data": {
      "image/png": "[encoded data removed]"
     },
     "metadata": {},
     "output_type": "display_data"
    },
    {
     "name": "stderr",
     "output_type": "stream",
     "text": [
      "convert-im6.q16: profile 'icc': 'RGB ': RGB color space not permitted on grayscale PNG `input.png' @ warning/png.c/MagickPNGWarningHandler/1654.\n"
     ]
    }
   ],
   "source": [
    "displaycircuit(\n",
    "[\n",
    "    MultiControlU(\"U\",[1,2],[3,8],[5,7]),\n",
    "    MultiControlU(\"U_a\",[1,2],[],[4,5]),\n",
    "    MultiControlU(\"U_b\",[7,8],[],[1,2,3]),\n",
    "    MultiControlU(\"U_c\",[],[],[4,6])\n",
    "]\n",
    ")"
   ]
  },
  {
   "cell_type": "markdown",
   "metadata": {},
   "source": [
    "## Use `circuit2table` to inspect the TeX code"
   ]
  },
  {
   "cell_type": "code",
   "execution_count": 6,
   "metadata": {},
   "outputs": [
    {
     "data": {
      "text/plain": [
       "6×5 Array{String,2}:\n",
       " \"\\\\qw\"  \"\\\\targ{}\\\\vqw{0}\"  \"\\\\meterD{}\"  \"\"              \"\"\n",
       " \"\\\\qw\"  \"\\\\ctrl{-1}\"        \"\\\\ctrl{0}\"   \"\\\\meterD{X}\"   \"\"\n",
       " \"\\\\qw\"  \"\\\\qw\"              \"\\\\ctrl{-1}\"  \"\\\\qw\"          \"\\\\qw\"\n",
       " \"\\\\qw\"  \"\\\\gate{H}\"         \"\\\\qw\"        \"\\\\qw\"          \"\\\\qw\"\n",
       " \"\\\\qw\"  \"\\\\gate{P}\"         \"\\\\swap{0}\"   \"\\\\qw\"          \"\\\\qw\"\n",
       " \"\\\\qw\"  \"\\\\qw\"              \"\\\\swap{-1}\"  \"\\\\gate{Gate}\"  \"\\\\qw\""
      ]
     },
     "execution_count": 6,
     "metadata": {},
     "output_type": "execute_result"
    }
   ],
   "source": [
    "circuit2table(\n",
    "    [CNOT(2,1),\n",
    "     CPHASE(2,3),\n",
    "     H(4),P(5),\n",
    "     SWAP(5,6),\n",
    "     U(\"Gate\",6),\n",
    "     Measurement(1),\n",
    "     Measurement(\"X\",2)\n",
    "    ],\n",
    "    mode=:compressed\n",
    ")"
   ]
  },
  {
   "cell_type": "markdown",
   "metadata": {},
   "source": [
    "## Use these to save to file"
   ]
  },
  {
   "cell_type": "code",
   "execution_count": null,
   "metadata": {},
   "outputs": [],
   "source": [
    "savepdf(circuit, filename)\n",
    "savepng(circuit, filename)\n",
    "savetex(circuit, filename)"
   ]
  }
 ],
 "metadata": {
  "kernelspec": {
   "display_name": "Julia 1.5.2",
   "language": "julia",
   "name": "julia-1.5"
  },
  "language_info": {
   "file_extension": ".jl",
   "mimetype": "application/julia",
   "name": "julia",
   "version": "1.5.2"
  }
 },
 "nbformat": 4,
 "nbformat_minor": 4
}
