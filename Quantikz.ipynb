{
 "cells": [
  {
   "cell_type": "code",
   "execution_count": 1,
   "metadata": {},
   "outputs": [],
   "source": [
    "using Quantikz"
   ]
  },
  {
   "cell_type": "code",
   "execution_count": 2,
   "metadata": {},
   "outputs": [
    {
     "data": {
      "image/png": "[encoded data removed]"
     },
     "metadata": {},
     "output_type": "display_data"
    }
   ],
   "source": [
    "displaycircuit(\n",
    "    [CNOT(2,1),\n",
    "     CPHASE(2,3),\n",
    "     H(4),P(5),\n",
    "     SWAP(5,6),\n",
    "     U(\"Gate\",6),\n",
    "     Measurement(1),\n",
    "     Measurement(\"X\",2)\n",
    "    ],\n",
    "    mode=:expanded\n",
    ")"
   ]
  },
  {
   "cell_type": "code",
   "execution_count": 3,
   "metadata": {},
   "outputs": [
    {
     "data": {
      "image/png": "[encoded data removed]"
     },
     "metadata": {},
     "output_type": "display_data"
    }
   ],
   "source": [
    "displaycircuit(\n",
    "    [CNOT(2,1),\n",
    "     CPHASE(2,3),\n",
    "     H(4),P(5),\n",
    "     SWAP(5,6),\n",
    "     U(\"Gate\",6),\n",
    "     Measurement(1),\n",
    "     Measurement(\"X\",2)\n",
    "    ],\n",
    "    mode=:compressed\n",
    ")"
   ]
  },
  {
   "cell_type": "code",
   "execution_count": 4,
   "metadata": {},
   "outputs": [
    {
     "data": {
      "image/png": "[encoded data removed]"
     },
     "metadata": {},
     "output_type": "display_data"
    }
   ],
   "source": [
    "displaycircuit(\n",
    "    [CNOT(2,1),\n",
    "     CPHASE(2,3),\n",
    "     H(4),P(5),\n",
    "     SWAP(5,6),\n",
    "     U(\"Gate\",6),\n",
    "     Measurement(1),\n",
    "     Measurement(\"X\",2)\n",
    "    ],\n",
    "    mode=:compressed,\n",
    "    scale=2\n",
    ")"
   ]
  },
  {
   "cell_type": "markdown",
   "metadata": {},
   "source": [
    "## `MultiControl` lets you make unrealistic arbitrary multiqubit ops"
   ]
  },
  {
   "cell_type": "code",
   "execution_count": 5,
   "metadata": {},
   "outputs": [
    {
     "data": {
      "image/png": "[encoded data removed]"
     },
     "metadata": {},
     "output_type": "display_data"
    }
   ],
   "source": [
    "displaycircuit(\n",
    "    [MultiControl([1,8],[2,7],[3,6],[4,5])]\n",
    ")"
   ]
  },
  {
   "cell_type": "markdown",
   "metadata": {},
   "source": [
    "## `MultiControlU` lets you make controlled gates with arbitrary names"
   ]
  },
  {
   "cell_type": "code",
   "execution_count": 6,
   "metadata": {},
   "outputs": [
    {
     "data": {
      "image/png": "[encoded data removed]"
     },
     "metadata": {},
     "output_type": "display_data"
    }
   ],
   "source": [
    "displaycircuit(\n",
    "[\n",
    "    MultiControlU(\"U\",[1,2],[3,8],[5,7]),\n",
    "    MultiControlU(\"U_a\",[1,2],[],[4,5]),\n",
    "    MultiControlU(\"U_b\",[7,8],[5],[1,2,3]),\n",
    "    MultiControlU(\"U_c\",[],[],[4,6])\n",
    "]\n",
    ")"
   ]
  },
  {
   "cell_type": "markdown",
   "metadata": {},
   "source": [
    "## `Noise` and `NoiseAll` are convenient to denote noise event"
   ]
  },
  {
   "cell_type": "code",
   "execution_count": 7,
   "metadata": {},
   "outputs": [
    {
     "data": {
      "image/png": "[encoded data removed]"
     },
     "metadata": {},
     "output_type": "display_data"
    }
   ],
   "source": [
    "displaycircuit(\n",
    "[\n",
    "    Noise([1,5]),\n",
    "    P(1),\n",
    "    NoiseAll(),\n",
    "    MultiControlU(\"U\",[2],[],[3,4]),\n",
    "    Noise([2,4]),\n",
    "]\n",
    ")"
   ]
  },
  {
   "cell_type": "markdown",
   "metadata": {},
   "source": [
    "## Use `circuit2table` to inspect the TeX code"
   ]
  },
  {
   "cell_type": "code",
   "execution_count": 8,
   "metadata": {},
   "outputs": [
    {
     "data": {
      "text/plain": [
       "6×5 Matrix{String}:\n",
       " \"\\\\qw\"  \"\\\\targ{}\\\\vqw{0}\"  \"\\\\meterD{}\"  \"\"              \"\"\n",
       " \"\\\\qw\"  \"\\\\ctrl{-1}\"        \"\\\\ctrl{0}\"   \"\\\\meterD{X}\"   \"\"\n",
       " \"\\\\qw\"  \"\\\\qw\"              \"\\\\ctrl{-1}\"  \"\\\\qw\"          \"\\\\qw\"\n",
       " \"\\\\qw\"  \"\\\\gate{H}\"         \"\\\\qw\"        \"\\\\qw\"          \"\\\\qw\"\n",
       " \"\\\\qw\"  \"\\\\gate{P}\"         \"\\\\swap{0}\"   \"\\\\qw\"          \"\\\\qw\"\n",
       " \"\\\\qw\"  \"\\\\qw\"              \"\\\\swap{-1}\"  \"\\\\gate{Gate}\"  \"\\\\qw\""
      ]
     },
     "execution_count": 8,
     "metadata": {},
     "output_type": "execute_result"
    }
   ],
   "source": [
    "table = circuit2table(\n",
    "    [CNOT(2,1),\n",
    "     CPHASE(2,3),\n",
    "     H(4),P(5),\n",
    "     SWAP(5,6),\n",
    "     U(\"Gate\",6),\n",
    "     Measurement(1),\n",
    "     Measurement(\"X\",2)\n",
    "    ],\n",
    "    mode=:compressed\n",
    ")"
   ]
  },
  {
   "cell_type": "code",
   "execution_count": 9,
   "metadata": {},
   "outputs": [
    {
     "data": {
      "text/plain": [
       "\"\\\\begin{quantikz}[transparent]\\n\\\\qw & \\\\targ{}\\\\vqw{0} & \\\\meterD{} &  & \\\\\\\\\\n\\\\qw & \\\\ctrl{-1} & \\\\ctrl{0} & \\\\meterD{X} & \\\\\\\\\\n\\\\qw & \\\\qw & \\\\ctrl{-1} & \\\\qw & \\\\qw\\\\\\\\\\n\\\\qw & \\\\gate{H} & \\\\qw & \\\\qw & \\\\qw\\\\\\\\\\n\\\\qw & \\\\gate{P} & \\\\swap{0} & \\\\qw & \\\\qw\\\\\\\\\\n\\\\qw & \\\\qw & \\\\swap{-1} & \\\\gate{Gate} & \\\\qw\\n\\\\end{quantikz}\""
      ]
     },
     "execution_count": 9,
     "metadata": {},
     "output_type": "execute_result"
    }
   ],
   "source": [
    "string = table2string(table)"
   ]
  },
  {
   "cell_type": "markdown",
   "metadata": {},
   "source": [
    "## Use these to save to file"
   ]
  },
  {
   "cell_type": "code",
   "execution_count": 10,
   "metadata": {},
   "outputs": [],
   "source": [
    "circuit = [CNOT(2,1), CPHASE(2,3)]\n",
    "savecircuit(circuit, \"file.pdf\")\n",
    "savecircuit(circuit, \"file.png\")\n",
    "savetex(circuit, \"file.tex\")"
   ]
  }
 ],
 "metadata": {
  "kernelspec": {
   "display_name": "Julia 1.6.0-beta1",
   "language": "julia",
   "name": "julia-1.6"
  },
  "language_info": {
   "file_extension": ".jl",
   "mimetype": "application/julia",
   "name": "julia",
   "version": "1.6.0"
  }
 },
 "nbformat": 4,
 "nbformat_minor": 4
}
